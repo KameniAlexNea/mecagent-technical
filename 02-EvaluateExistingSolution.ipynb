{
 "cells": [
  {
   "cell_type": "code",
   "execution_count": 1,
   "id": "dd19fcf7",
   "metadata": {},
   "outputs": [],
   "source": [
    "from datasets import load_dataset\n",
    "from transformers import VisionEncoderDecoderModel, ViTImageProcessor, AutoTokenizer\n",
    "from PIL import Image\n",
    "import torch"
   ]
  },
  {
   "cell_type": "code",
   "execution_count": 2,
   "id": "656e4d10",
   "metadata": {},
   "outputs": [],
   "source": [
    "ds = load_dataset(\n",
    "    \"CADCODER/GenCAD-Code\",\n",
    "    num_proc=16,\n",
    "    split=[\"train\", \"test\"],\n",
    "    cache_dir=\"./Volumes/BIG-DATA/HUGGINGFACE_CACHE\",\n",
    ")\n",
    "\n",
    "train_dataset, test_dataset = ds"
   ]
  },
  {
   "cell_type": "code",
   "execution_count": 3,
   "id": "8b48b642",
   "metadata": {},
   "outputs": [
    {
     "data": {
      "text/plain": [
       "Dataset({\n",
       "    features: ['image', 'deepcad_id', 'cadquery', 'token_count', 'prompt', 'hundred_subset'],\n",
       "    num_rows: 7355\n",
       "})"
      ]
     },
     "execution_count": 3,
     "metadata": {},
     "output_type": "execute_result"
    }
   ],
   "source": [
    "test_dataset"
   ]
  },
  {
   "cell_type": "code",
   "execution_count": 4,
   "id": "2cd739b4",
   "metadata": {},
   "outputs": [],
   "source": [
    "# Load the model\n",
    "model = VisionEncoderDecoderModel.from_pretrained(\"Thehunter99/vit-codegpt-cadcoder\", device_map=\"cuda\")\n",
    "feature_extractor = ViTImageProcessor.from_pretrained(\"google/vit-base-patch16-224\")\n",
    "tokenizer = AutoTokenizer.from_pretrained(\"microsoft/CodeGPT-small-py\")"
   ]
  },
  {
   "cell_type": "code",
   "execution_count": 7,
   "id": "6f6bcd8f",
   "metadata": {},
   "outputs": [
    {
     "name": "stdout",
     "output_type": "stream",
     "text": [
      " cad as\n",
      " Generating work for 0wpsketch =.(.,.,.,.)solid=00125 cqWork= cqWork(.(.,.,.,.),.,.),.(.,.,.)solid=00125\n",
      "0wpsketch=_0001 cqWork=_0001 cqWork0=_001 cqWork000 cqWork000 cqWork000 cqWork000 cqWork000 cqWork000 cqWork000 cqWork0000 cqWork0000 cqWork0000 cqWork0000 0000 0000 000 000 000 00close\n",
      "=_000125 00close\n",
      "=_00125\n",
      " Generating work for 1wpsketch =.(.56,.).(.56)solid=00125 cqWork=_001(.,.).(.56)solid=00125\n",
      "0wpsketch=_001 cqWork=_001(.,.).(.56)solid=00125 cqWork=_001(.,.).(.56)solid=00125 cqWork=_001(.,.).(.56)solid=00125 cqWork=_001(.,.).(.56)solid=00125\n",
      "0wpsketch=_001(.,.).(.56)solid=00125 cqWork=_001(.,.).(.56)solid=00125 cqWork=_001(.,.).(.56)solid=00125\n",
      "0wpsketch=_001(.,.).(.56)solid=00125\n",
      "0wpsketch=_001(.,.).(.56)solid=00125\n",
      "0wpsketch=_001(.,.).(.56)solid=00125\n",
      "0wpsketch=_001(.,.).(.56)solid=00125\n",
      "0wpsketch=_001(.,.).(.56)solid=00125\n",
      "0wpsketch=_001(.,.).(.56)solid=00125\n",
      "0wpsketch=_001(.,.).(.56)solid=00125\n",
      "0wpsketch=_001(.,.).(.56)solid=00125\n",
      "0wpsketch=_001(.,.).(.56)solid=00125\n",
      "0wpsketch=_001(.,.).(.56)solid=00125\n",
      "0wpsketch=_001(.,.).(.56)solid=00125\n",
      "0wpsketch=_001(.,.).(.56)solid=00125\n",
      "0wpsketch=_001(.,.).(.56)solid=00125\n",
      "0wpsketch=_001(.,.).(.56)solid=00125\n",
      "0wpsketch=_001(.,.).(.56)solid=00125\n",
      "0wpsketch=_001(.,.).(.56)solid=00125\n",
      "0wpsketch=_001(.,.).(.56)solid=00125\n",
      "0wpsketch=_001(.,.).(.56)solid=00125\n",
      "0wpsketch=_001(.,.).(.56)solid=00125\n",
      "0wpsketch=_001(.,.).(.56)solid=00125\n",
      "0wpsketch=_001(.,.).(.56)solid=00125\n",
      "0wpsketch=_001(.,.).(.56)solid=00125solid0wpsketch=_001(.,.).(.56)solid=00125solid0wpsketch=_001(.,.).(.56)solid=00125solid0wpsketch=_001(.,.).(.56)solid=00125solid0wpsketch=_001(.,.).(.56)solid=00125solid0wpsketch=_001(.,.).(.56)solid=00125solid0wpsketch=_001(.,.).(.56)solid=00125solid0wpsketch=_001(.,.).(.56)solid=00125solid0wpsketch=_001(.,.).(.56)\n"
     ]
    }
   ],
   "source": [
    "# Load and process image\n",
    "image = train_dataset[0][\"image\"]\n",
    "pixel_values = feature_extractor(images=image, return_tensors=\"pt\").pixel_values\n",
    "\n",
    "# Generate CAD code\n",
    "with torch.no_grad():\n",
    "    generated_ids = model.generate(\n",
    "        pixel_values.cuda(),\n",
    "        max_length=1024,\n",
    "        # num_beams=4,\n",
    "        # early_stopping=True,\n",
    "        do_sample=False,\n",
    "        pad_token_id=tokenizer.eos_token_id\n",
    "    )\n",
    "\n",
    "generated_code = tokenizer.decode(generated_ids[0], skip_special_tokens=True)\n",
    "print(generated_code)\n"
   ]
  },
  {
   "cell_type": "code",
   "execution_count": null,
   "id": "792a08ba",
   "metadata": {},
   "outputs": [],
   "source": []
  }
 ],
 "metadata": {
  "kernelspec": {
   "display_name": "mecagent-technical",
   "language": "python",
   "name": "python3"
  },
  "language_info": {
   "codemirror_mode": {
    "name": "ipython",
    "version": 3
   },
   "file_extension": ".py",
   "mimetype": "text/x-python",
   "name": "python",
   "nbconvert_exporter": "python",
   "pygments_lexer": "ipython3",
   "version": "3.11.11"
  }
 },
 "nbformat": 4,
 "nbformat_minor": 5
}
